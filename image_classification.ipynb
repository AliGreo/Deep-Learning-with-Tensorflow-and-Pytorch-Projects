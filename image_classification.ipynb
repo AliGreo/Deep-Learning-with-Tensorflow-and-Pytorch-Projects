{
  "metadata": {
    "kernelspec": {
      "language": "python",
      "display_name": "Python 3",
      "name": "python3"
    },
    "language_info": {
      "name": "python",
      "version": "3.10.10",
      "mimetype": "text/x-python",
      "codemirror_mode": {
        "name": "ipython",
        "version": 3
      },
      "pygments_lexer": "ipython3",
      "nbconvert_exporter": "python",
      "file_extension": ".py"
    },
    "colab": {
      "provenance": [],
      "gpuType": "T4",
      "include_colab_link": true
    },
    "accelerator": "GPU",
    "gpuClass": "standard"
  },
  "nbformat_minor": 0,
  "nbformat": 4,
  "cells": [
    {
      "cell_type": "markdown",
      "metadata": {
        "id": "view-in-github",
        "colab_type": "text"
      },
      "source": [
        "<a href=\"https://colab.research.google.com/github/Aligreu/Deep-Learning-with-Tensorflow-Projects/blob/main/image_classification.ipynb\" target=\"_parent\"><img src=\"https://colab.research.google.com/assets/colab-badge.svg\" alt=\"Open In Colab\"/></a>"
      ]
    },
    {
      "cell_type": "code",
      "source": [
        "import numpy as np \n",
        "import pandas as pd\n",
        "import tensorflow as tf\n",
        "from tensorflow import keras\n",
        "from keras.preprocessing.image import ImageDataGenerator\n",
        "import matplotlib.pyplot as plt\n",
        "from keras.utils import load_img"
      ],
      "metadata": {
        "_uuid": "8f2839f25d086af736a60e9eeb907d3b93b6e0e5",
        "_cell_guid": "b1076dfc-b9ad-4769-8c92-a6c4dae69d19",
        "execution": {
          "iopub.status.busy": "2023-05-08T20:20:20.620298Z",
          "iopub.execute_input": "2023-05-08T20:20:20.620986Z",
          "iopub.status.idle": "2023-05-08T20:20:27.391686Z",
          "shell.execute_reply.started": "2023-05-08T20:20:20.620951Z",
          "shell.execute_reply": "2023-05-08T20:20:27.390682Z"
        },
        "trusted": true,
        "id": "ucucVlMtQVZU"
      },
      "execution_count": 1,
      "outputs": []
    },
    {
      "cell_type": "code",
      "source": [
        "!pip install opendatasets -q"
      ],
      "metadata": {
        "id": "pYuFqD1CQb6O"
      },
      "execution_count": 2,
      "outputs": []
    },
    {
      "cell_type": "code",
      "source": [
        "from google.colab import files\n",
        "files.upload()"
      ],
      "metadata": {
        "colab": {
          "base_uri": "https://localhost:8080/",
          "height": 91
        },
        "id": "4XYC3Wi9Qlmy",
        "outputId": "602bf0a2-25b6-46b7-b5dd-0fb17e764235"
      },
      "execution_count": 3,
      "outputs": [
        {
          "output_type": "display_data",
          "data": {
            "text/plain": [
              "<IPython.core.display.HTML object>"
            ],
            "text/html": [
              "\n",
              "     <input type=\"file\" id=\"files-7c92ec43-0098-497b-a764-56216e24c2fc\" name=\"files[]\" multiple disabled\n",
              "        style=\"border:none\" />\n",
              "     <output id=\"result-7c92ec43-0098-497b-a764-56216e24c2fc\">\n",
              "      Upload widget is only available when the cell has been executed in the\n",
              "      current browser session. Please rerun this cell to enable.\n",
              "      </output>\n",
              "      <script>// Copyright 2017 Google LLC\n",
              "//\n",
              "// Licensed under the Apache License, Version 2.0 (the \"License\");\n",
              "// you may not use this file except in compliance with the License.\n",
              "// You may obtain a copy of the License at\n",
              "//\n",
              "//      http://www.apache.org/licenses/LICENSE-2.0\n",
              "//\n",
              "// Unless required by applicable law or agreed to in writing, software\n",
              "// distributed under the License is distributed on an \"AS IS\" BASIS,\n",
              "// WITHOUT WARRANTIES OR CONDITIONS OF ANY KIND, either express or implied.\n",
              "// See the License for the specific language governing permissions and\n",
              "// limitations under the License.\n",
              "\n",
              "/**\n",
              " * @fileoverview Helpers for google.colab Python module.\n",
              " */\n",
              "(function(scope) {\n",
              "function span(text, styleAttributes = {}) {\n",
              "  const element = document.createElement('span');\n",
              "  element.textContent = text;\n",
              "  for (const key of Object.keys(styleAttributes)) {\n",
              "    element.style[key] = styleAttributes[key];\n",
              "  }\n",
              "  return element;\n",
              "}\n",
              "\n",
              "// Max number of bytes which will be uploaded at a time.\n",
              "const MAX_PAYLOAD_SIZE = 100 * 1024;\n",
              "\n",
              "function _uploadFiles(inputId, outputId) {\n",
              "  const steps = uploadFilesStep(inputId, outputId);\n",
              "  const outputElement = document.getElementById(outputId);\n",
              "  // Cache steps on the outputElement to make it available for the next call\n",
              "  // to uploadFilesContinue from Python.\n",
              "  outputElement.steps = steps;\n",
              "\n",
              "  return _uploadFilesContinue(outputId);\n",
              "}\n",
              "\n",
              "// This is roughly an async generator (not supported in the browser yet),\n",
              "// where there are multiple asynchronous steps and the Python side is going\n",
              "// to poll for completion of each step.\n",
              "// This uses a Promise to block the python side on completion of each step,\n",
              "// then passes the result of the previous step as the input to the next step.\n",
              "function _uploadFilesContinue(outputId) {\n",
              "  const outputElement = document.getElementById(outputId);\n",
              "  const steps = outputElement.steps;\n",
              "\n",
              "  const next = steps.next(outputElement.lastPromiseValue);\n",
              "  return Promise.resolve(next.value.promise).then((value) => {\n",
              "    // Cache the last promise value to make it available to the next\n",
              "    // step of the generator.\n",
              "    outputElement.lastPromiseValue = value;\n",
              "    return next.value.response;\n",
              "  });\n",
              "}\n",
              "\n",
              "/**\n",
              " * Generator function which is called between each async step of the upload\n",
              " * process.\n",
              " * @param {string} inputId Element ID of the input file picker element.\n",
              " * @param {string} outputId Element ID of the output display.\n",
              " * @return {!Iterable<!Object>} Iterable of next steps.\n",
              " */\n",
              "function* uploadFilesStep(inputId, outputId) {\n",
              "  const inputElement = document.getElementById(inputId);\n",
              "  inputElement.disabled = false;\n",
              "\n",
              "  const outputElement = document.getElementById(outputId);\n",
              "  outputElement.innerHTML = '';\n",
              "\n",
              "  const pickedPromise = new Promise((resolve) => {\n",
              "    inputElement.addEventListener('change', (e) => {\n",
              "      resolve(e.target.files);\n",
              "    });\n",
              "  });\n",
              "\n",
              "  const cancel = document.createElement('button');\n",
              "  inputElement.parentElement.appendChild(cancel);\n",
              "  cancel.textContent = 'Cancel upload';\n",
              "  const cancelPromise = new Promise((resolve) => {\n",
              "    cancel.onclick = () => {\n",
              "      resolve(null);\n",
              "    };\n",
              "  });\n",
              "\n",
              "  // Wait for the user to pick the files.\n",
              "  const files = yield {\n",
              "    promise: Promise.race([pickedPromise, cancelPromise]),\n",
              "    response: {\n",
              "      action: 'starting',\n",
              "    }\n",
              "  };\n",
              "\n",
              "  cancel.remove();\n",
              "\n",
              "  // Disable the input element since further picks are not allowed.\n",
              "  inputElement.disabled = true;\n",
              "\n",
              "  if (!files) {\n",
              "    return {\n",
              "      response: {\n",
              "        action: 'complete',\n",
              "      }\n",
              "    };\n",
              "  }\n",
              "\n",
              "  for (const file of files) {\n",
              "    const li = document.createElement('li');\n",
              "    li.append(span(file.name, {fontWeight: 'bold'}));\n",
              "    li.append(span(\n",
              "        `(${file.type || 'n/a'}) - ${file.size} bytes, ` +\n",
              "        `last modified: ${\n",
              "            file.lastModifiedDate ? file.lastModifiedDate.toLocaleDateString() :\n",
              "                                    'n/a'} - `));\n",
              "    const percent = span('0% done');\n",
              "    li.appendChild(percent);\n",
              "\n",
              "    outputElement.appendChild(li);\n",
              "\n",
              "    const fileDataPromise = new Promise((resolve) => {\n",
              "      const reader = new FileReader();\n",
              "      reader.onload = (e) => {\n",
              "        resolve(e.target.result);\n",
              "      };\n",
              "      reader.readAsArrayBuffer(file);\n",
              "    });\n",
              "    // Wait for the data to be ready.\n",
              "    let fileData = yield {\n",
              "      promise: fileDataPromise,\n",
              "      response: {\n",
              "        action: 'continue',\n",
              "      }\n",
              "    };\n",
              "\n",
              "    // Use a chunked sending to avoid message size limits. See b/62115660.\n",
              "    let position = 0;\n",
              "    do {\n",
              "      const length = Math.min(fileData.byteLength - position, MAX_PAYLOAD_SIZE);\n",
              "      const chunk = new Uint8Array(fileData, position, length);\n",
              "      position += length;\n",
              "\n",
              "      const base64 = btoa(String.fromCharCode.apply(null, chunk));\n",
              "      yield {\n",
              "        response: {\n",
              "          action: 'append',\n",
              "          file: file.name,\n",
              "          data: base64,\n",
              "        },\n",
              "      };\n",
              "\n",
              "      let percentDone = fileData.byteLength === 0 ?\n",
              "          100 :\n",
              "          Math.round((position / fileData.byteLength) * 100);\n",
              "      percent.textContent = `${percentDone}% done`;\n",
              "\n",
              "    } while (position < fileData.byteLength);\n",
              "  }\n",
              "\n",
              "  // All done.\n",
              "  yield {\n",
              "    response: {\n",
              "      action: 'complete',\n",
              "    }\n",
              "  };\n",
              "}\n",
              "\n",
              "scope.google = scope.google || {};\n",
              "scope.google.colab = scope.google.colab || {};\n",
              "scope.google.colab._files = {\n",
              "  _uploadFiles,\n",
              "  _uploadFilesContinue,\n",
              "};\n",
              "})(self);\n",
              "</script> "
            ]
          },
          "metadata": {}
        },
        {
          "output_type": "stream",
          "name": "stdout",
          "text": [
            "Saving kaggle.json to kaggle.json\n"
          ]
        },
        {
          "output_type": "execute_result",
          "data": {
            "text/plain": [
              "{'kaggle.json': b'{\"username\":\"aligreualihassan\",\"key\":\"0ec02ee8ed393df62e866a59100b8b1e\"}'}"
            ]
          },
          "metadata": {},
          "execution_count": 3
        }
      ]
    },
    {
      "cell_type": "code",
      "source": [
        "import opendatasets\n",
        "\n",
        "opendatasets.download(\"https://www.kaggle.com/datasets/tawsifurrahman/covid19-radiography-database?select=COVID-19_Radiography_Dataset\")"
      ],
      "metadata": {
        "colab": {
          "base_uri": "https://localhost:8080/"
        },
        "id": "30ns_o-KQiQ7",
        "outputId": "5ade2e4a-69aa-4afa-d000-026eea57fda7"
      },
      "execution_count": 4,
      "outputs": [
        {
          "output_type": "stream",
          "name": "stdout",
          "text": [
            "Downloading covid19-radiography-database.zip to ./covid19-radiography-database\n"
          ]
        },
        {
          "output_type": "stream",
          "name": "stderr",
          "text": [
            "100%|██████████| 778M/778M [00:40<00:00, 20.2MB/s]\n"
          ]
        },
        {
          "output_type": "stream",
          "name": "stdout",
          "text": [
            "\n"
          ]
        }
      ]
    },
    {
      "cell_type": "markdown",
      "source": [
        "## READ IMAGES"
      ],
      "metadata": {
        "id": "_15nOPgcQVZc"
      }
    },
    {
      "cell_type": "code",
      "source": [
        "import os\n",
        "\n",
        "base_folder = './data/'\n",
        "folders = \"/content/covid19-radiography-database/COVID-19_Radiography_Dataset\"\n",
        "\n",
        "dirs = os.listdir(folders)"
      ],
      "metadata": {
        "execution": {
          "iopub.status.busy": "2023-05-08T20:20:31.500812Z",
          "iopub.execute_input": "2023-05-08T20:20:31.501174Z",
          "iopub.status.idle": "2023-05-08T20:20:31.508287Z",
          "shell.execute_reply.started": "2023-05-08T20:20:31.501134Z",
          "shell.execute_reply": "2023-05-08T20:20:31.507060Z"
        },
        "trusted": true,
        "id": "0DqlHEVJQVZg"
      },
      "execution_count": 5,
      "outputs": []
    },
    {
      "cell_type": "code",
      "source": [
        "folds = [d for d in dirs if not d.endswith('.xlsx') | d.endswith('.txt')]\n",
        "folds"
      ],
      "metadata": {
        "colab": {
          "base_uri": "https://localhost:8080/"
        },
        "id": "VqBVm03ldpE1",
        "outputId": "83449951-f980-4a6a-f192-ec715f644871"
      },
      "execution_count": 7,
      "outputs": [
        {
          "output_type": "execute_result",
          "data": {
            "text/plain": [
              "['Normal', 'COVID', 'Viral Pneumonia', 'Lung_Opacity']"
            ]
          },
          "metadata": {},
          "execution_count": 7
        }
      ]
    },
    {
      "cell_type": "code",
      "source": [
        "paths = [os.path.join(folders, f, 'images') for f in folds]\n",
        "paths"
      ],
      "metadata": {
        "colab": {
          "base_uri": "https://localhost:8080/"
        },
        "id": "oKSSaPDrcICX",
        "outputId": "da4c21c7-aa63-48ad-abc3-633aa2c31dd3"
      },
      "execution_count": 8,
      "outputs": [
        {
          "output_type": "execute_result",
          "data": {
            "text/plain": [
              "['/content/covid19-radiography-database/COVID-19_Radiography_Dataset/Normal/images',\n",
              " '/content/covid19-radiography-database/COVID-19_Radiography_Dataset/COVID/images',\n",
              " '/content/covid19-radiography-database/COVID-19_Radiography_Dataset/Viral Pneumonia/images',\n",
              " '/content/covid19-radiography-database/COVID-19_Radiography_Dataset/Lung_Opacity/images']"
            ]
          },
          "metadata": {},
          "execution_count": 8
        }
      ]
    },
    {
      "cell_type": "code",
      "source": [
        "import shutil\n",
        "\n",
        "\n",
        "for folder, name in zip(paths, folds):\n",
        "    folder_name = os.path.basename(folder)\n",
        "    new_folder = os.path.join(base_folder, name)\n",
        "    shutil.copytree(folder, new_folder)"
      ],
      "metadata": {
        "execution": {
          "iopub.status.busy": "2023-05-08T20:20:37.740839Z",
          "iopub.execute_input": "2023-05-08T20:20:37.744597Z",
          "iopub.status.idle": "2023-05-08T20:23:53.261255Z",
          "shell.execute_reply.started": "2023-05-08T20:20:37.744548Z",
          "shell.execute_reply": "2023-05-08T20:23:53.260298Z"
        },
        "trusted": true,
        "id": "NeTEo4hZQVZi"
      },
      "execution_count": 9,
      "outputs": []
    },
    {
      "cell_type": "code",
      "source": [
        "generator = ImageDataGenerator(rescale=1.0/255,\n",
        "                              validation_split=0.2)\n",
        "\n",
        "train_data = generator.flow_from_directory(\"/content/data\",\n",
        "                                          subset='training',\n",
        "                                          target_size=(200,200),\n",
        "                                          color_mode='grayscale')\n",
        "\n",
        "validation_data = generator.flow_from_directory(\"/content/data\",\n",
        "                                               subset=\"validation\",\n",
        "                                               target_size=(200,200),\n",
        "                                               color_mode='grayscale')"
      ],
      "metadata": {
        "execution": {
          "iopub.status.busy": "2023-05-08T20:24:21.547726Z",
          "iopub.execute_input": "2023-05-08T20:24:21.548101Z",
          "iopub.status.idle": "2023-05-08T20:24:21.992664Z",
          "shell.execute_reply.started": "2023-05-08T20:24:21.548070Z",
          "shell.execute_reply": "2023-05-08T20:24:21.991723Z"
        },
        "trusted": true,
        "colab": {
          "base_uri": "https://localhost:8080/"
        },
        "id": "KQ7DeT9zQVZj",
        "outputId": "fa419e89-c17e-45c3-fb50-3d27325d048d"
      },
      "execution_count": 10,
      "outputs": [
        {
          "output_type": "stream",
          "name": "stdout",
          "text": [
            "Found 16933 images belonging to 4 classes.\n",
            "Found 4232 images belonging to 4 classes.\n"
          ]
        }
      ]
    },
    {
      "cell_type": "markdown",
      "source": [
        "![image.png](data:image/png;base64,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)"
      ],
      "metadata": {
        "id": "-ed9jIrgnys0"
      }
    },
    {
      "cell_type": "code",
      "source": [
        "model = keras.models.Sequential()\n",
        "\n",
        "model.add(keras.layers.Conv2D(32, kernel_size=(3,3), activation='relu',padding='same', input_shape=(200,200,1)))\n",
        "model.add(keras.layers.BatchNormalization())\n",
        "model.add(keras.layers.MaxPooling2D((2,2)))\n",
        "\n",
        "model.add(keras.layers.Conv2D(64, 3,padding='same', activation='relu'))\n",
        "model.add(keras.layers.BatchNormalization())\n",
        "model.add(keras.layers.MaxPooling2D((2,2)))\n",
        "\n",
        "model.add(keras.layers.Conv2D(128, 3,padding='same', activation='relu'))\n",
        "model.add(keras.layers.BatchNormalization())\n",
        "model.add(keras.layers.MaxPooling2D((2,2)))\n",
        "\n",
        "model.add(keras.layers.Flatten())\n",
        "model.add(keras.layers.Dropout(0.4)) # prevent overfitting\n",
        "\n",
        "model.add(keras.layers.Dense(64, activation='relu'))\n",
        "model.add(keras.layers.Dense(128, activation='relu'))\n",
        "model.add(keras.layers.Dense(256, activation='relu'))\n",
        "\n",
        "\n",
        "model.add(keras.layers.Dense(4, activation='softmax'))\n",
        "\n",
        "model.compile(loss='categorical_crossentropy', optimizer='sgd', metrics=['accuracy'])"
      ],
      "metadata": {
        "id": "p1zj10uKmwiu"
      },
      "execution_count": 51,
      "outputs": []
    },
    {
      "cell_type": "markdown",
      "source": [
        "## best optimizer to optimize the model\n",
        "\n",
        "### 1- Adam >> adaptive moment estimation\n",
        "### 2 - SGD >> Stochastic Gradient Decent\n",
        "### 3 - RMSProp >> Root Mean Square Propagation"
      ],
      "metadata": {
        "id": "7u3cegP4t-ZG"
      }
    },
    {
      "cell_type": "markdown",
      "source": [
        "# Loss >> Error Function\n",
        "\n",
        "### Categorical Crossentropy >> multiclass classification\n",
        "### Binary Crossentropy >> Binary classification"
      ],
      "metadata": {
        "id": "GXD0Dw53uyDC"
      }
    },
    {
      "cell_type": "code",
      "source": [
        "model.summary()"
      ],
      "metadata": {
        "colab": {
          "base_uri": "https://localhost:8080/"
        },
        "id": "z1_Nvodjw-_p",
        "outputId": "49d791b2-53fd-402d-b69f-457a6b4e7d77"
      },
      "execution_count": 37,
      "outputs": [
        {
          "output_type": "stream",
          "name": "stdout",
          "text": [
            "Model: \"sequential_2\"\n",
            "_________________________________________________________________\n",
            " Layer (type)                Output Shape              Param #   \n",
            "=================================================================\n",
            " conv2d_6 (Conv2D)           (None, 200, 200, 32)      320       \n",
            "                                                                 \n",
            " batch_normalization_6 (Batc  (None, 200, 200, 32)     128       \n",
            " hNormalization)                                                 \n",
            "                                                                 \n",
            " max_pooling2d_6 (MaxPooling  (None, 100, 100, 32)     0         \n",
            " 2D)                                                             \n",
            "                                                                 \n",
            " conv2d_7 (Conv2D)           (None, 100, 100, 64)      18496     \n",
            "                                                                 \n",
            " batch_normalization_7 (Batc  (None, 100, 100, 64)     256       \n",
            " hNormalization)                                                 \n",
            "                                                                 \n",
            " max_pooling2d_7 (MaxPooling  (None, 50, 50, 64)       0         \n",
            " 2D)                                                             \n",
            "                                                                 \n",
            " conv2d_8 (Conv2D)           (None, 50, 50, 128)       73856     \n",
            "                                                                 \n",
            " batch_normalization_8 (Batc  (None, 50, 50, 128)      512       \n",
            " hNormalization)                                                 \n",
            "                                                                 \n",
            " max_pooling2d_8 (MaxPooling  (None, 25, 25, 128)      0         \n",
            " 2D)                                                             \n",
            "                                                                 \n",
            " flatten_2 (Flatten)         (None, 80000)             0         \n",
            "                                                                 \n",
            " dropout_2 (Dropout)         (None, 80000)             0         \n",
            "                                                                 \n",
            " dense_6 (Dense)             (None, 64)                5120064   \n",
            "                                                                 \n",
            " dense_7 (Dense)             (None, 128)               8320      \n",
            "                                                                 \n",
            " dense_8 (Dense)             (None, 4)                 516       \n",
            "                                                                 \n",
            "=================================================================\n",
            "Total params: 5,222,468\n",
            "Trainable params: 5,222,020\n",
            "Non-trainable params: 448\n",
            "_________________________________________________________________\n"
          ]
        }
      ]
    },
    {
      "cell_type": "code",
      "source": [
        "model.fit(train_data,\n",
        "          epochs=10,\n",
        "          validation_data=validation_data,\n",
        "          batch_size=32)"
      ],
      "metadata": {
        "colab": {
          "base_uri": "https://localhost:8080/"
        },
        "id": "LOMLWKBevT4w",
        "outputId": "2e44cbf1-71e5-4265-8560-7668d93d18b1"
      },
      "execution_count": 38,
      "outputs": [
        {
          "output_type": "stream",
          "name": "stdout",
          "text": [
            "Epoch 1/10\n",
            "530/530 [==============================] - 56s 100ms/step - loss: 0.7956 - accuracy: 0.7275 - val_loss: 1.0473 - val_accuracy: 0.5577\n",
            "Epoch 2/10\n",
            "530/530 [==============================] - 53s 100ms/step - loss: 0.4291 - accuracy: 0.8364 - val_loss: 0.4448 - val_accuracy: 0.8284\n",
            "Epoch 3/10\n",
            "530/530 [==============================] - 52s 99ms/step - loss: 0.3430 - accuracy: 0.8703 - val_loss: 0.3775 - val_accuracy: 0.8578\n",
            "Epoch 4/10\n",
            "530/530 [==============================] - 52s 98ms/step - loss: 0.2878 - accuracy: 0.8903 - val_loss: 0.3993 - val_accuracy: 0.8528\n",
            "Epoch 5/10\n",
            "530/530 [==============================] - 51s 97ms/step - loss: 0.2437 - accuracy: 0.9075 - val_loss: 0.7253 - val_accuracy: 0.7694\n",
            "Epoch 6/10\n",
            "530/530 [==============================] - 53s 101ms/step - loss: 0.2110 - accuracy: 0.9194 - val_loss: 0.8660 - val_accuracy: 0.7762\n",
            "Epoch 7/10\n",
            "530/530 [==============================] - 52s 98ms/step - loss: 0.1822 - accuracy: 0.9318 - val_loss: 0.4215 - val_accuracy: 0.8637\n",
            "Epoch 8/10\n",
            "530/530 [==============================] - 64s 121ms/step - loss: 0.1530 - accuracy: 0.9431 - val_loss: 0.6759 - val_accuracy: 0.7991\n",
            "Epoch 9/10\n",
            "530/530 [==============================] - 59s 111ms/step - loss: 0.1356 - accuracy: 0.9494 - val_loss: 0.4828 - val_accuracy: 0.8485\n",
            "Epoch 10/10\n",
            "530/530 [==============================] - 57s 108ms/step - loss: 0.2316 - accuracy: 0.9203 - val_loss: 0.6001 - val_accuracy: 0.7909\n"
          ]
        },
        {
          "output_type": "execute_result",
          "data": {
            "text/plain": [
              "<keras.callbacks.History at 0x7fb35469a4a0>"
            ]
          },
          "metadata": {},
          "execution_count": 38
        }
      ]
    },
    {
      "cell_type": "code",
      "source": [
        "model.evaluate(validation_data)"
      ],
      "metadata": {
        "colab": {
          "base_uri": "https://localhost:8080/"
        },
        "id": "ELWsTt97wq5s",
        "outputId": "d191b4c8-e42c-45ee-e2fc-8bef7862ced6"
      },
      "execution_count": 39,
      "outputs": [
        {
          "output_type": "stream",
          "name": "stdout",
          "text": [
            "133/133 [==============================] - 10s 75ms/step - loss: 0.6001 - accuracy: 0.7909\n"
          ]
        },
        {
          "output_type": "execute_result",
          "data": {
            "text/plain": [
              "[0.6001258492469788, 0.7908790111541748]"
            ]
          },
          "metadata": {},
          "execution_count": 39
        }
      ]
    },
    {
      "cell_type": "code",
      "source": [
        "validation_data.class_indices"
      ],
      "metadata": {
        "colab": {
          "base_uri": "https://localhost:8080/"
        },
        "id": "mS-_fnh2mzxe",
        "outputId": "edaae742-1c33-4715-d8bb-285a2e919ca9"
      },
      "execution_count": 41,
      "outputs": [
        {
          "output_type": "execute_result",
          "data": {
            "text/plain": [
              "{'COVID': 0, 'Lung_Opacity': 1, 'Normal': 2, 'Viral Pneumonia': 3}"
            ]
          },
          "metadata": {},
          "execution_count": 41
        }
      ]
    },
    {
      "cell_type": "code",
      "source": [
        "predictions = model.predict(validation_data).argmax(axis=1)"
      ],
      "metadata": {
        "colab": {
          "base_uri": "https://localhost:8080/"
        },
        "id": "fItxpbM1nKNQ",
        "outputId": "c2eded0f-0936-426a-92ef-e9636065e0f1"
      },
      "execution_count": 43,
      "outputs": [
        {
          "output_type": "stream",
          "name": "stdout",
          "text": [
            "133/133 [==============================] - 10s 73ms/step\n"
          ]
        }
      ]
    },
    {
      "cell_type": "code",
      "source": [
        "validation_data.classes"
      ],
      "metadata": {
        "colab": {
          "base_uri": "https://localhost:8080/"
        },
        "id": "9lLMCxuowuDr",
        "outputId": "544a4f9d-118e-473d-827c-36eb7beb93cc"
      },
      "execution_count": 52,
      "outputs": [
        {
          "output_type": "execute_result",
          "data": {
            "text/plain": [
              "array([0, 0, 0, ..., 3, 3, 3], dtype=int32)"
            ]
          },
          "metadata": {},
          "execution_count": 52
        }
      ]
    },
    {
      "cell_type": "code",
      "source": [
        "from sklearn.metrics import accuracy_score, f1_score\n",
        "\n",
        "acc = accuracy_score(validation_data.classes, predictions)\n",
        "f1score = f1_score(validation_data.classes, predictions, average='weighted')\n",
        "\n",
        "print(f1score)"
      ],
      "metadata": {
        "colab": {
          "base_uri": "https://localhost:8080/"
        },
        "id": "e2M25Fjqn7iu",
        "outputId": "e132aa11-baaf-4e2c-fff3-e2eab03eab91"
      },
      "execution_count": 53,
      "outputs": [
        {
          "output_type": "stream",
          "name": "stdout",
          "text": [
            "0.3397354503462044\n"
          ]
        }
      ]
    },
    {
      "cell_type": "markdown",
      "source": [
        "# Model Evaluation"
      ],
      "metadata": {
        "id": "V4sfZjfYl9OG"
      }
    },
    {
      "cell_type": "code",
      "source": [
        "from sklearn.metrics import (accuracy_score, confusion_matrix, f1_score, ConfusionMatrixDisplay)\n",
        "\n",
        "y_hat =  np.argmax(model.predict(validation_data), axis=1)"
      ],
      "metadata": {
        "colab": {
          "base_uri": "https://localhost:8080/"
        },
        "id": "TYeKdTBhtutn",
        "outputId": "dfa72e2a-040a-4498-87aa-aca54b26c553"
      },
      "execution_count": 46,
      "outputs": [
        {
          "output_type": "stream",
          "name": "stdout",
          "text": [
            "133/133 [==============================] - 10s 72ms/step\n"
          ]
        }
      ]
    },
    {
      "cell_type": "code",
      "source": [
        "f1_score(y_hat, validation_data.classes, average='micro')"
      ],
      "metadata": {
        "colab": {
          "base_uri": "https://localhost:8080/"
        },
        "id": "bEmJxr9guyXK",
        "outputId": "bb5a840a-016f-4bbb-b3f7-f0ae3342b6e2"
      },
      "execution_count": 47,
      "outputs": [
        {
          "output_type": "execute_result",
          "data": {
            "text/plain": [
              "0.32041587901701324"
            ]
          },
          "metadata": {},
          "execution_count": 47
        }
      ]
    },
    {
      "cell_type": "code",
      "source": [
        "import seaborn as sns\n",
        "ConfusionMatrixDisplay(confusion_matrix(y_hat, validation_data.classes)).plot()"
      ],
      "metadata": {
        "colab": {
          "base_uri": "https://localhost:8080/",
          "height": 467
        },
        "id": "1EUwzUi8u-Rh",
        "outputId": "10a49a82-b30f-4861-ef4b-dd533c243a6d"
      },
      "execution_count": 48,
      "outputs": [
        {
          "output_type": "execute_result",
          "data": {
            "text/plain": [
              "<sklearn.metrics._plot.confusion_matrix.ConfusionMatrixDisplay at 0x7fb41c73e8c0>"
            ]
          },
          "metadata": {},
          "execution_count": 48
        },
        {
          "output_type": "display_data",
          "data": {
            "text/plain": [
              "<Figure size 640x480 with 2 Axes>"
            ],
            "image/png": "[encoded data removed]"
          },
          "metadata": {}
        }
      ]
    },
    {
      "cell_type": "code",
      "source": [
        "model.save('hwaze_model.h5')"
      ],
      "metadata": {
        "id": "a2nrFdbSwVFF"
      },
      "execution_count": 50,
      "outputs": []
    }
  ]
}