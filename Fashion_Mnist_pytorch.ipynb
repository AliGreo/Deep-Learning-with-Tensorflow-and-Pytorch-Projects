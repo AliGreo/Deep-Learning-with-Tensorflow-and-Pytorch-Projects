{
  "nbformat": 4,
  "nbformat_minor": 0,
  "metadata": {
    "colab": {
      "provenance": [],
      "gpuType": "T4",
      "authorship_tag": "ABX9TyPk5ox0apfceSVQ3Nj4VjI/",
      "include_colab_link": true
    },
    "kernelspec": {
      "name": "python3",
      "display_name": "Python 3"
    },
    "language_info": {
      "name": "python"
    },
    "accelerator": "GPU"
  },
  "cells": [
    {
      "cell_type": "markdown",
      "metadata": {
        "id": "view-in-github",
        "colab_type": "text"
      },
      "source": [
        "<a href=\"https://colab.research.google.com/github/Aligreu/Deep-Learning-with-Tensorflow-and-Pytorch-Projects/blob/main/Fashion_Mnist_pytorch.ipynb\" target=\"_parent\"><img src=\"https://colab.research.google.com/assets/colab-badge.svg\" alt=\"Open In Colab\"/></a>"
      ]
    },
    {
      "cell_type": "code",
      "execution_count": 7,
      "metadata": {
        "id": "9qOtq_x0MtsJ"
      },
      "outputs": [],
      "source": [
        "import torch\n",
        "import torch.nn as nn\n",
        "from torchvision import transforms as T\n",
        "from torchvision import datasets\n",
        "from torch.utils.data import DataLoader"
      ]
    },
    {
      "cell_type": "code",
      "source": [
        "transforms = T.Compose([\n",
        "    T.ToTensor()\n",
        "])\n",
        "\n",
        "train_data = datasets.FashionMNIST(root='./data', download=True, train=True, transform=transforms)\n",
        "test_data = datasets.FashionMNIST(root='./data', download=True, train=False, transform=transforms)"
      ],
      "metadata": {
        "id": "GaFYlKkzNdWD"
      },
      "execution_count": 9,
      "outputs": []
    },
    {
      "cell_type": "code",
      "source": [
        "train_data.data.shape"
      ],
      "metadata": {
        "colab": {
          "base_uri": "https://localhost:8080/"
        },
        "id": "Egec2Lg-OtTT",
        "outputId": "a6d4c0e1-3627-4159-877b-3d71a2f04fa3"
      },
      "execution_count": 13,
      "outputs": [
        {
          "output_type": "execute_result",
          "data": {
            "text/plain": [
              "torch.Size([60000, 28, 28])"
            ]
          },
          "metadata": {},
          "execution_count": 13
        }
      ]
    },
    {
      "cell_type": "code",
      "source": [
        "train_data.class_to_idx"
      ],
      "metadata": {
        "colab": {
          "base_uri": "https://localhost:8080/"
        },
        "id": "WIQvKwj9O5LT",
        "outputId": "55fc1a3d-814a-4a7f-ea00-fb421baee4ca"
      },
      "execution_count": 14,
      "outputs": [
        {
          "output_type": "execute_result",
          "data": {
            "text/plain": [
              "{'T-shirt/top': 0,\n",
              " 'Trouser': 1,\n",
              " 'Pullover': 2,\n",
              " 'Dress': 3,\n",
              " 'Coat': 4,\n",
              " 'Sandal': 5,\n",
              " 'Shirt': 6,\n",
              " 'Sneaker': 7,\n",
              " 'Bag': 8,\n",
              " 'Ankle boot': 9}"
            ]
          },
          "metadata": {},
          "execution_count": 14
        }
      ]
    },
    {
      "cell_type": "code",
      "source": [
        "train_loader = DataLoader(dataset=train_data, shuffle=True, batch_size=64)\n",
        "test_loader = DataLoader(dataset=test_data, shuffle=False, batch_size=64)"
      ],
      "metadata": {
        "id": "iUcmDWgvNbPc"
      },
      "execution_count": 8,
      "outputs": []
    },
    {
      "cell_type": "code",
      "source": [
        "class FMinestModel(nn.Module):\n",
        "    def __init__(self, num_classes):\n",
        "        super(FMinestModel, self).__init__()\n",
        "\n",
        "        self.model = nn.Sequential(\n",
        "            nn.Conv2d(in_channels=1, out_channels=1024, kernel_size=3, padding=1, stride=1),\n",
        "            nn.MaxPool2d(2,2),\n",
        "            nn.ReLU(),\n",
        "            nn.Conv2d(in_channels=1024, out_channels=512, kernel_size=3, padding=1, stride=1),\n",
        "            nn.MaxPool2d(2,2),\n",
        "            nn.ReLU(),\n",
        "            nn.Flatten(),\n",
        "            nn.Linear(512*7*7, 128),\n",
        "            nn.Linear(128, num_classes),\n",
        "            nn.LogSoftmax(dim=1)\n",
        "        )\n",
        "\n",
        "    def forward(self, x):\n",
        "        pred = self.model(x)\n",
        "        return pred\n",
        "\n",
        "model = FMinestModel(num_classes=10)\n",
        "criterion = nn.CrossEntropyLoss()\n",
        "optimizer = torch.optim.Adam(model.parameters(), lr=0.01)\n",
        "\n",
        "device = torch.device(\"cuda:0\" if torch.cuda.is_available() else \"cpu\")\n",
        "model.to(device)"
      ],
      "metadata": {
        "colab": {
          "base_uri": "https://localhost:8080/"
        },
        "id": "FfD1aVYEN8a6",
        "outputId": "e4536033-0ce0-443b-ecee-212580065a4d"
      },
      "execution_count": 58,
      "outputs": [
        {
          "output_type": "execute_result",
          "data": {
            "text/plain": [
              "FMinestModel(\n",
              "  (model): Sequential(\n",
              "    (0): Conv2d(1, 1024, kernel_size=(3, 3), stride=(1, 1), padding=(1, 1))\n",
              "    (1): MaxPool2d(kernel_size=2, stride=2, padding=0, dilation=1, ceil_mode=False)\n",
              "    (2): ReLU()\n",
              "    (3): Conv2d(1024, 512, kernel_size=(3, 3), stride=(1, 1), padding=(1, 1))\n",
              "    (4): MaxPool2d(kernel_size=2, stride=2, padding=0, dilation=1, ceil_mode=False)\n",
              "    (5): ReLU()\n",
              "    (6): Flatten(start_dim=1, end_dim=-1)\n",
              "    (7): Linear(in_features=25088, out_features=128, bias=True)\n",
              "    (8): Linear(in_features=128, out_features=10, bias=True)\n",
              "    (9): LogSoftmax(dim=1)\n",
              "  )\n",
              ")"
            ]
          },
          "metadata": {},
          "execution_count": 58
        }
      ]
    },
    {
      "cell_type": "code",
      "source": [
        "num_epochs = 20\n",
        "\n",
        "for epoch in range(num_epochs):\n",
        "    model.train()\n",
        "    for image, label in train_loader:\n",
        "        image, label = image.to(device), label.to(device)\n",
        "        optimizer.zero_grad()\n",
        "        outputs = model(image)\n",
        "        loss = criterion(outputs, label)\n",
        "        loss.backward()\n",
        "        optimizer.step()\n",
        "    print(f\"Epoch: {epoch+1} Loss: {loss.item()}\")"
      ],
      "metadata": {
        "colab": {
          "base_uri": "https://localhost:8080/"
        },
        "id": "jalV8Eb9QXNV",
        "outputId": "3d380718-e66d-4c07-95fb-224bb8f07761"
      },
      "execution_count": 59,
      "outputs": [
        {
          "output_type": "stream",
          "name": "stdout",
          "text": [
            "Epoch: 1 Loss: 0.7626997232437134\n",
            "Epoch: 2 Loss: 0.45961901545524597\n",
            "Epoch: 3 Loss: 0.23228393495082855\n",
            "Epoch: 4 Loss: 0.6038681268692017\n",
            "Epoch: 5 Loss: 0.33818942308425903\n",
            "Epoch: 6 Loss: 0.45754167437553406\n",
            "Epoch: 7 Loss: 0.36478331685066223\n",
            "Epoch: 8 Loss: 0.5434313416481018\n",
            "Epoch: 9 Loss: 0.2663448452949524\n",
            "Epoch: 10 Loss: 0.17990180850028992\n",
            "Epoch: 11 Loss: 0.5507586598396301\n",
            "Epoch: 12 Loss: 0.28224602341651917\n",
            "Epoch: 13 Loss: 0.32103896141052246\n",
            "Epoch: 14 Loss: 0.20860978960990906\n",
            "Epoch: 15 Loss: 0.5006498098373413\n",
            "Epoch: 16 Loss: 0.17793002724647522\n",
            "Epoch: 17 Loss: 0.6814471483230591\n",
            "Epoch: 18 Loss: 0.27835598587989807\n",
            "Epoch: 19 Loss: 0.33942002058029175\n",
            "Epoch: 20 Loss: 0.4861607849597931\n"
          ]
        }
      ]
    },
    {
      "cell_type": "code",
      "source": [
        "!pip install torchmetrics -q"
      ],
      "metadata": {
        "colab": {
          "base_uri": "https://localhost:8080/"
        },
        "id": "s625xOq7WqVz",
        "outputId": "82a84bb1-317b-446e-a6a6-74f0f472a8bd"
      },
      "execution_count": 49,
      "outputs": [
        {
          "output_type": "stream",
          "name": "stdout",
          "text": [
            "\u001b[?25l     \u001b[90m━━━━━━━━━━━━━━━━━━━━━━━━━━━━━━━━━━━━━━━━\u001b[0m \u001b[32m0.0/840.2 kB\u001b[0m \u001b[31m?\u001b[0m eta \u001b[36m-:--:--\u001b[0m\r\u001b[2K     \u001b[91m━━━━━━━━━━━━━━\u001b[0m\u001b[91m╸\u001b[0m\u001b[90m━━━━━━━━━━━━━━━━━━━━━━━━━\u001b[0m \u001b[32m307.2/840.2 kB\u001b[0m \u001b[31m9.2 MB/s\u001b[0m eta \u001b[36m0:00:01\u001b[0m\r\u001b[2K     \u001b[91m━━━━━━━━━━━━━━━━━━━━━━━━━━━━━━━━━━━━━━━\u001b[0m\u001b[91m╸\u001b[0m \u001b[32m839.7/840.2 kB\u001b[0m \u001b[31m13.4 MB/s\u001b[0m eta \u001b[36m0:00:01\u001b[0m\r\u001b[2K     \u001b[90m━━━━━━━━━━━━━━━━━━━━━━━━━━━━━━━━━━━━━━━━\u001b[0m \u001b[32m840.2/840.2 kB\u001b[0m \u001b[31m11.5 MB/s\u001b[0m eta \u001b[36m0:00:00\u001b[0m\n",
            "\u001b[?25h"
          ]
        }
      ]
    },
    {
      "cell_type": "code",
      "source": [
        "from torchmetrics  import Accuracy\n",
        "\n",
        "accuracy = Accuracy(task='multiclass', num_classes=10).to(device)\n",
        "\n",
        "with torch.no_grad():\n",
        "    model.eval()\n",
        "    for image, label in test_loader:\n",
        "        image, label = image.to(device), label.to(device)\n",
        "        optimizer.zero_grad()\n",
        "        outputs = model(image)\n",
        "        outputs = torch.exp(outputs)\n",
        "        preds = torch.argmax(outputs, dim=1)\n",
        "        accuracy.update(preds, label)\n",
        "\n",
        "print(f\"Accuracy {accuracy.compute():.4f}\")"
      ],
      "metadata": {
        "colab": {
          "base_uri": "https://localhost:8080/"
        },
        "id": "jcRyQHFaWBA4",
        "outputId": "9269ebb7-0c6e-42b3-84ff-9054baa4bcb9"
      },
      "execution_count": 61,
      "outputs": [
        {
          "output_type": "stream",
          "name": "stdout",
          "text": [
            "Accuracy 0.8678\n"
          ]
        }
      ]
    }
  ]
}