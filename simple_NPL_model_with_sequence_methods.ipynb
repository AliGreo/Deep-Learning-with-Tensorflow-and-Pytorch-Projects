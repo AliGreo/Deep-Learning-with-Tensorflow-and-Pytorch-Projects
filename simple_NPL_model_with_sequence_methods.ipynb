{
  "cells": [
    {
      "cell_type": "markdown",
      "metadata": {
        "id": "view-in-github",
        "colab_type": "text"
      },
      "source": [
        "<a href=\"https://colab.research.google.com/github/Aligreu/Deep-Learning-with-Tensorflow-Projects/blob/main/simple_NPL_model_with_sequence_methods.ipynb\" target=\"_parent\"><img src=\"https://colab.research.google.com/assets/colab-badge.svg\" alt=\"Open In Colab\"/></a>"
      ]
    },
    {
      "cell_type": "code",
      "execution_count": 77,
      "metadata": {
        "id": "lIYdn1woOS1n"
      },
      "outputs": [],
      "source": [
        "from keras.preprocessing.text import Tokenizer\n",
        "from tensorflow.keras.preprocessing.sequence import pad_sequences\n",
        "import numpy as np\n",
        "\n",
        "from keras.models import Sequential\n",
        "from keras.layers import Bidirectional, LSTM, Dense, Embedding\n",
        "from keras.losses import BinaryCrossentropy"
      ]
    },
    {
      "cell_type": "code",
      "source": [
        "text = [\"cats are so cool\",\n",
        "        \"cats are so lazy\",\n",
        "        \"dogs more of kind animals than cats\",\n",
        "        \"i love when dogs make people happy\",\n",
        "        \"i hate when dogs and cats bees\",\n",
        "        \"hated that no one of my friends love cats\",\n",
        "        \"cats never satisfied with the amout of food we gave to them\"]\n",
        "\n",
        "tokens = Tokenizer(num_words=50, oov_token=\"<OOV>\")\n",
        "tokens.fit_on_texts(text)\n",
        "\n",
        "work_index = tokens.word_index\n",
        "\n",
        "sequences = tokens.texts_to_sequences(text)\n",
        "padded = pad_sequences(sequences=sequences, maxlen=50, padding=\"post\", truncating=\"post\")\n",
        "\n",
        "labels = np.array([1,0,1,1, 0, 0, 0])"
      ],
      "metadata": {
        "id": "2qnXajSXnbvF"
      },
      "execution_count": 78,
      "outputs": []
    },
    {
      "cell_type": "code",
      "source": [
        "padded"
      ],
      "metadata": {
        "id": "7OsuU0Kko7mf",
        "outputId": "a2870df8-54a9-4811-fdde-4ae677bee69a",
        "colab": {
          "base_uri": "https://localhost:8080/"
        }
      },
      "execution_count": 79,
      "outputs": [
        {
          "output_type": "execute_result",
          "data": {
            "text/plain": [
              "array([[ 2,  5,  6, 10,  0,  0,  0,  0,  0,  0,  0,  0,  0,  0,  0,  0,\n",
              "         0,  0,  0,  0,  0,  0,  0,  0,  0,  0,  0,  0,  0,  0,  0,  0,\n",
              "         0,  0,  0,  0,  0,  0,  0,  0,  0,  0,  0,  0,  0,  0,  0,  0,\n",
              "         0,  0],\n",
              "       [ 2,  5,  6, 11,  0,  0,  0,  0,  0,  0,  0,  0,  0,  0,  0,  0,\n",
              "         0,  0,  0,  0,  0,  0,  0,  0,  0,  0,  0,  0,  0,  0,  0,  0,\n",
              "         0,  0,  0,  0,  0,  0,  0,  0,  0,  0,  0,  0,  0,  0,  0,  0,\n",
              "         0,  0],\n",
              "       [ 3, 12,  4, 13, 14, 15,  2,  0,  0,  0,  0,  0,  0,  0,  0,  0,\n",
              "         0,  0,  0,  0,  0,  0,  0,  0,  0,  0,  0,  0,  0,  0,  0,  0,\n",
              "         0,  0,  0,  0,  0,  0,  0,  0,  0,  0,  0,  0,  0,  0,  0,  0,\n",
              "         0,  0],\n",
              "       [ 7,  8,  9,  3, 16, 17, 18,  0,  0,  0,  0,  0,  0,  0,  0,  0,\n",
              "         0,  0,  0,  0,  0,  0,  0,  0,  0,  0,  0,  0,  0,  0,  0,  0,\n",
              "         0,  0,  0,  0,  0,  0,  0,  0,  0,  0,  0,  0,  0,  0,  0,  0,\n",
              "         0,  0],\n",
              "       [ 7, 19,  9,  3, 20,  2, 21,  0,  0,  0,  0,  0,  0,  0,  0,  0,\n",
              "         0,  0,  0,  0,  0,  0,  0,  0,  0,  0,  0,  0,  0,  0,  0,  0,\n",
              "         0,  0,  0,  0,  0,  0,  0,  0,  0,  0,  0,  0,  0,  0,  0,  0,\n",
              "         0,  0],\n",
              "       [22, 23, 24, 25,  4, 26, 27,  8,  2,  0,  0,  0,  0,  0,  0,  0,\n",
              "         0,  0,  0,  0,  0,  0,  0,  0,  0,  0,  0,  0,  0,  0,  0,  0,\n",
              "         0,  0,  0,  0,  0,  0,  0,  0,  0,  0,  0,  0,  0,  0,  0,  0,\n",
              "         0,  0],\n",
              "       [ 2, 28, 29, 30, 31, 32,  4, 33, 34, 35, 36, 37,  0,  0,  0,  0,\n",
              "         0,  0,  0,  0,  0,  0,  0,  0,  0,  0,  0,  0,  0,  0,  0,  0,\n",
              "         0,  0,  0,  0,  0,  0,  0,  0,  0,  0,  0,  0,  0,  0,  0,  0,\n",
              "         0,  0]], dtype=int32)"
            ]
          },
          "metadata": {},
          "execution_count": 79
        }
      ]
    },
    {
      "cell_type": "code",
      "source": [
        "model = Sequential()\n",
        "model.add(Embedding(50, 16, input_length=50))\n",
        "model.add(Bidirectional(LSTM(36)))\n",
        "model.add(Dense(32, activation='relu'))\n",
        "model.add(Dense(1,activation=\"sigmoid\"))\n",
        "\n",
        "\n",
        "model.compile(optimizer='adam', loss=BinaryCrossentropy(), metrics=['accuracy'])"
      ],
      "metadata": {
        "id": "uRCFCwljpE9R"
      },
      "execution_count": 80,
      "outputs": []
    },
    {
      "cell_type": "code",
      "source": [
        "hist = model.fit(padded, labels, epochs=100)"
      ],
      "metadata": {
        "id": "0dYzopvkqEbo",
        "outputId": "c8f31c12-5eec-4e57-8c20-e1e13a13ed6a",
        "colab": {
          "base_uri": "https://localhost:8080/"
        }
      },
      "execution_count": 81,
      "outputs": [
        {
          "output_type": "stream",
          "name": "stdout",
          "text": [
            "Epoch 1/100\n",
            "1/1 [==============================] - 3s 3s/step - loss: 0.6948 - accuracy: 0.4286\n",
            "Epoch 2/100\n",
            "1/1 [==============================] - 0s 26ms/step - loss: 0.6931 - accuracy: 0.4286\n",
            "Epoch 3/100\n",
            "1/1 [==============================] - 0s 24ms/step - loss: 0.6923 - accuracy: 0.5714\n",
            "Epoch 4/100\n",
            "1/1 [==============================] - 0s 30ms/step - loss: 0.6916 - accuracy: 0.7143\n",
            "Epoch 5/100\n",
            "1/1 [==============================] - 0s 25ms/step - loss: 0.6907 - accuracy: 0.5714\n",
            "Epoch 6/100\n",
            "1/1 [==============================] - 0s 24ms/step - loss: 0.6898 - accuracy: 0.5714\n",
            "Epoch 7/100\n",
            "1/1 [==============================] - 0s 23ms/step - loss: 0.6891 - accuracy: 0.5714\n",
            "Epoch 8/100\n",
            "1/1 [==============================] - 0s 24ms/step - loss: 0.6882 - accuracy: 0.5714\n",
            "Epoch 9/100\n",
            "1/1 [==============================] - 0s 23ms/step - loss: 0.6874 - accuracy: 0.5714\n",
            "Epoch 10/100\n",
            "1/1 [==============================] - 0s 23ms/step - loss: 0.6864 - accuracy: 0.5714\n",
            "Epoch 11/100\n",
            "1/1 [==============================] - 0s 24ms/step - loss: 0.6853 - accuracy: 0.5714\n",
            "Epoch 12/100\n",
            "1/1 [==============================] - 0s 25ms/step - loss: 0.6839 - accuracy: 0.5714\n",
            "Epoch 13/100\n",
            "1/1 [==============================] - 0s 27ms/step - loss: 0.6824 - accuracy: 0.7143\n",
            "Epoch 14/100\n",
            "1/1 [==============================] - 0s 29ms/step - loss: 0.6809 - accuracy: 0.7143\n",
            "Epoch 15/100\n",
            "1/1 [==============================] - 0s 22ms/step - loss: 0.6792 - accuracy: 0.7143\n",
            "Epoch 16/100\n",
            "1/1 [==============================] - 0s 25ms/step - loss: 0.6773 - accuracy: 0.7143\n",
            "Epoch 17/100\n",
            "1/1 [==============================] - 0s 21ms/step - loss: 0.6751 - accuracy: 0.7143\n",
            "Epoch 18/100\n",
            "1/1 [==============================] - 0s 22ms/step - loss: 0.6728 - accuracy: 0.7143\n",
            "Epoch 19/100\n",
            "1/1 [==============================] - 0s 24ms/step - loss: 0.6702 - accuracy: 0.7143\n",
            "Epoch 20/100\n",
            "1/1 [==============================] - 0s 26ms/step - loss: 0.6675 - accuracy: 0.8571\n",
            "Epoch 21/100\n",
            "1/1 [==============================] - 0s 22ms/step - loss: 0.6643 - accuracy: 0.8571\n",
            "Epoch 22/100\n",
            "1/1 [==============================] - 0s 22ms/step - loss: 0.6606 - accuracy: 0.8571\n",
            "Epoch 23/100\n",
            "1/1 [==============================] - 0s 23ms/step - loss: 0.6566 - accuracy: 1.0000\n",
            "Epoch 24/100\n",
            "1/1 [==============================] - 0s 23ms/step - loss: 0.6518 - accuracy: 1.0000\n",
            "Epoch 25/100\n",
            "1/1 [==============================] - 0s 23ms/step - loss: 0.6465 - accuracy: 1.0000\n",
            "Epoch 26/100\n",
            "1/1 [==============================] - 0s 27ms/step - loss: 0.6403 - accuracy: 1.0000\n",
            "Epoch 27/100\n",
            "1/1 [==============================] - 0s 23ms/step - loss: 0.6331 - accuracy: 1.0000\n",
            "Epoch 28/100\n",
            "1/1 [==============================] - 0s 24ms/step - loss: 0.6250 - accuracy: 1.0000\n",
            "Epoch 29/100\n",
            "1/1 [==============================] - 0s 34ms/step - loss: 0.6159 - accuracy: 0.8571\n",
            "Epoch 30/100\n",
            "1/1 [==============================] - 0s 30ms/step - loss: 0.6058 - accuracy: 0.8571\n",
            "Epoch 31/100\n",
            "1/1 [==============================] - 0s 28ms/step - loss: 0.5946 - accuracy: 0.8571\n",
            "Epoch 32/100\n",
            "1/1 [==============================] - 0s 26ms/step - loss: 0.5822 - accuracy: 1.0000\n",
            "Epoch 33/100\n",
            "1/1 [==============================] - 0s 25ms/step - loss: 0.5692 - accuracy: 1.0000\n",
            "Epoch 34/100\n",
            "1/1 [==============================] - 0s 25ms/step - loss: 0.5551 - accuracy: 1.0000\n",
            "Epoch 35/100\n",
            "1/1 [==============================] - 0s 35ms/step - loss: 0.5406 - accuracy: 1.0000\n",
            "Epoch 36/100\n",
            "1/1 [==============================] - 0s 27ms/step - loss: 0.5251 - accuracy: 1.0000\n",
            "Epoch 37/100\n",
            "1/1 [==============================] - 0s 24ms/step - loss: 0.5093 - accuracy: 1.0000\n",
            "Epoch 38/100\n",
            "1/1 [==============================] - 0s 24ms/step - loss: 0.4927 - accuracy: 1.0000\n",
            "Epoch 39/100\n",
            "1/1 [==============================] - 0s 27ms/step - loss: 0.4753 - accuracy: 1.0000\n",
            "Epoch 40/100\n",
            "1/1 [==============================] - 0s 25ms/step - loss: 0.4640 - accuracy: 0.8571\n",
            "Epoch 41/100\n",
            "1/1 [==============================] - 0s 25ms/step - loss: 0.4740 - accuracy: 0.7143\n",
            "Epoch 42/100\n",
            "1/1 [==============================] - 0s 23ms/step - loss: 0.4321 - accuracy: 0.8571\n",
            "Epoch 43/100\n",
            "1/1 [==============================] - 0s 22ms/step - loss: 0.4453 - accuracy: 0.8571\n",
            "Epoch 44/100\n",
            "1/1 [==============================] - 0s 22ms/step - loss: 0.4083 - accuracy: 1.0000\n",
            "Epoch 45/100\n",
            "1/1 [==============================] - 0s 23ms/step - loss: 0.4171 - accuracy: 1.0000\n",
            "Epoch 46/100\n",
            "1/1 [==============================] - 0s 23ms/step - loss: 0.3862 - accuracy: 1.0000\n",
            "Epoch 47/100\n",
            "1/1 [==============================] - 0s 25ms/step - loss: 0.3919 - accuracy: 0.8571\n",
            "Epoch 48/100\n",
            "1/1 [==============================] - 0s 27ms/step - loss: 0.3664 - accuracy: 0.8571\n",
            "Epoch 49/100\n",
            "1/1 [==============================] - 0s 23ms/step - loss: 0.3616 - accuracy: 1.0000\n",
            "Epoch 50/100\n",
            "1/1 [==============================] - 0s 28ms/step - loss: 0.3489 - accuracy: 1.0000\n",
            "Epoch 51/100\n",
            "1/1 [==============================] - 0s 27ms/step - loss: 0.3308 - accuracy: 0.8571\n",
            "Epoch 52/100\n",
            "1/1 [==============================] - 0s 24ms/step - loss: 0.3275 - accuracy: 0.8571\n",
            "Epoch 53/100\n",
            "1/1 [==============================] - 0s 25ms/step - loss: 0.3052 - accuracy: 1.0000\n",
            "Epoch 54/100\n",
            "1/1 [==============================] - 0s 35ms/step - loss: 0.3015 - accuracy: 1.0000\n",
            "Epoch 55/100\n",
            "1/1 [==============================] - 0s 29ms/step - loss: 0.2820 - accuracy: 1.0000\n",
            "Epoch 56/100\n",
            "1/1 [==============================] - 0s 24ms/step - loss: 0.2744 - accuracy: 0.8571\n",
            "Epoch 57/100\n",
            "1/1 [==============================] - 0s 27ms/step - loss: 0.2585 - accuracy: 1.0000\n",
            "Epoch 58/100\n",
            "1/1 [==============================] - 0s 24ms/step - loss: 0.2486 - accuracy: 1.0000\n",
            "Epoch 59/100\n",
            "1/1 [==============================] - 0s 23ms/step - loss: 0.2342 - accuracy: 1.0000\n",
            "Epoch 60/100\n",
            "1/1 [==============================] - 0s 28ms/step - loss: 0.2233 - accuracy: 1.0000\n",
            "Epoch 61/100\n",
            "1/1 [==============================] - 0s 28ms/step - loss: 0.2088 - accuracy: 1.0000\n",
            "Epoch 62/100\n",
            "1/1 [==============================] - 0s 25ms/step - loss: 0.2022 - accuracy: 1.0000\n",
            "Epoch 63/100\n",
            "1/1 [==============================] - 0s 25ms/step - loss: 0.1859 - accuracy: 1.0000\n",
            "Epoch 64/100\n",
            "1/1 [==============================] - 0s 35ms/step - loss: 0.1816 - accuracy: 1.0000\n",
            "Epoch 65/100\n",
            "1/1 [==============================] - 0s 25ms/step - loss: 0.1701 - accuracy: 1.0000\n",
            "Epoch 66/100\n",
            "1/1 [==============================] - 0s 25ms/step - loss: 0.1569 - accuracy: 1.0000\n",
            "Epoch 67/100\n",
            "1/1 [==============================] - 0s 24ms/step - loss: 0.1538 - accuracy: 1.0000\n",
            "Epoch 68/100\n",
            "1/1 [==============================] - 0s 27ms/step - loss: 0.1522 - accuracy: 1.0000\n",
            "Epoch 69/100\n",
            "1/1 [==============================] - 0s 24ms/step - loss: 0.1453 - accuracy: 1.0000\n",
            "Epoch 70/100\n",
            "1/1 [==============================] - 0s 26ms/step - loss: 0.1301 - accuracy: 1.0000\n",
            "Epoch 71/100\n",
            "1/1 [==============================] - 0s 26ms/step - loss: 0.1182 - accuracy: 1.0000\n",
            "Epoch 72/100\n",
            "1/1 [==============================] - 0s 24ms/step - loss: 0.1138 - accuracy: 1.0000\n",
            "Epoch 73/100\n",
            "1/1 [==============================] - 0s 23ms/step - loss: 0.1153 - accuracy: 1.0000\n",
            "Epoch 74/100\n",
            "1/1 [==============================] - 0s 23ms/step - loss: 0.1223 - accuracy: 1.0000\n",
            "Epoch 75/100\n",
            "1/1 [==============================] - 0s 22ms/step - loss: 0.1160 - accuracy: 1.0000\n",
            "Epoch 76/100\n",
            "1/1 [==============================] - 0s 24ms/step - loss: 0.0958 - accuracy: 1.0000\n",
            "Epoch 77/100\n",
            "1/1 [==============================] - 0s 29ms/step - loss: 0.0880 - accuracy: 1.0000\n",
            "Epoch 78/100\n",
            "1/1 [==============================] - 0s 24ms/step - loss: 0.0942 - accuracy: 1.0000\n",
            "Epoch 79/100\n",
            "1/1 [==============================] - 0s 26ms/step - loss: 0.0817 - accuracy: 1.0000\n",
            "Epoch 80/100\n",
            "1/1 [==============================] - 0s 30ms/step - loss: 0.0772 - accuracy: 1.0000\n",
            "Epoch 81/100\n",
            "1/1 [==============================] - 0s 29ms/step - loss: 0.0780 - accuracy: 1.0000\n",
            "Epoch 82/100\n",
            "1/1 [==============================] - 0s 27ms/step - loss: 0.0677 - accuracy: 1.0000\n",
            "Epoch 83/100\n",
            "1/1 [==============================] - 0s 25ms/step - loss: 0.0697 - accuracy: 1.0000\n",
            "Epoch 84/100\n",
            "1/1 [==============================] - 0s 26ms/step - loss: 0.0625 - accuracy: 1.0000\n",
            "Epoch 85/100\n",
            "1/1 [==============================] - 0s 25ms/step - loss: 0.0609 - accuracy: 1.0000\n",
            "Epoch 86/100\n",
            "1/1 [==============================] - 0s 26ms/step - loss: 0.0583 - accuracy: 1.0000\n",
            "Epoch 87/100\n",
            "1/1 [==============================] - 0s 28ms/step - loss: 0.0532 - accuracy: 1.0000\n",
            "Epoch 88/100\n",
            "1/1 [==============================] - 0s 26ms/step - loss: 0.0535 - accuracy: 1.0000\n",
            "Epoch 89/100\n",
            "1/1 [==============================] - 0s 26ms/step - loss: 0.0475 - accuracy: 1.0000\n",
            "Epoch 90/100\n",
            "1/1 [==============================] - 0s 29ms/step - loss: 0.0476 - accuracy: 1.0000\n",
            "Epoch 91/100\n",
            "1/1 [==============================] - 0s 23ms/step - loss: 0.0437 - accuracy: 1.0000\n",
            "Epoch 92/100\n",
            "1/1 [==============================] - 0s 23ms/step - loss: 0.0413 - accuracy: 1.0000\n",
            "Epoch 93/100\n",
            "1/1 [==============================] - 0s 28ms/step - loss: 0.0406 - accuracy: 1.0000\n",
            "Epoch 94/100\n",
            "1/1 [==============================] - 0s 23ms/step - loss: 0.0365 - accuracy: 1.0000\n",
            "Epoch 95/100\n",
            "1/1 [==============================] - 0s 27ms/step - loss: 0.0363 - accuracy: 1.0000\n",
            "Epoch 96/100\n",
            "1/1 [==============================] - 0s 30ms/step - loss: 0.0341 - accuracy: 1.0000\n",
            "Epoch 97/100\n",
            "1/1 [==============================] - 0s 32ms/step - loss: 0.0313 - accuracy: 1.0000\n",
            "Epoch 98/100\n",
            "1/1 [==============================] - 0s 35ms/step - loss: 0.0312 - accuracy: 1.0000\n",
            "Epoch 99/100\n",
            "1/1 [==============================] - 0s 28ms/step - loss: 0.0290 - accuracy: 1.0000\n",
            "Epoch 100/100\n",
            "1/1 [==============================] - 0s 29ms/step - loss: 0.0269 - accuracy: 1.0000\n"
          ]
        }
      ]
    },
    {
      "cell_type": "code",
      "source": [
        "test = [\"cats is now a kind animals\",\n",
        "        \"i hate dogs\"]\n",
        "\n",
        "sequences = tokens.texts_to_sequences(test)\n",
        "padded_test = pad_sequences(sequences, padding=\"post\", truncating=\"post\", maxlen=50)\n",
        "\n",
        "predictions = model.predict(padded_test)\n",
        "predictions = predictions.tolist()\n",
        "predictions"
      ],
      "metadata": {
        "id": "TjeDJ4i2q-Lf",
        "outputId": "6a42f2a6-bd8c-43ed-d5a2-25441e6ad8ea",
        "colab": {
          "base_uri": "https://localhost:8080/"
        }
      },
      "execution_count": 82,
      "outputs": [
        {
          "output_type": "stream",
          "name": "stderr",
          "text": [
            "WARNING:tensorflow:6 out of the last 10 calls to <function Model.make_predict_function.<locals>.predict_function at 0x7f6ac7b723b0> triggered tf.function retracing. Tracing is expensive and the excessive number of tracings could be due to (1) creating @tf.function repeatedly in a loop, (2) passing tensors with different shapes, (3) passing Python objects instead of tensors. For (1), please define your @tf.function outside of the loop. For (2), @tf.function has reduce_retracing=True option that can avoid unnecessary retracing. For (3), please refer to https://www.tensorflow.org/guide/function#controlling_retracing and https://www.tensorflow.org/api_docs/python/tf/function for  more details.\n"
          ]
        },
        {
          "output_type": "stream",
          "name": "stdout",
          "text": [
            "1/1 [==============================] - 1s 694ms/step\n"
          ]
        },
        {
          "output_type": "execute_result",
          "data": {
            "text/plain": [
              "[[0.9663607478141785], [0.8497673273086548]]"
            ]
          },
          "metadata": {},
          "execution_count": 82
        }
      ]
    },
    {
      "cell_type": "code",
      "source": [
        "\n",
        "for i in range(len(test)):\n",
        "    print((test[i], predictions[i]))"
      ],
      "metadata": {
        "id": "tXfdbnYBtvc-",
        "outputId": "a1743cdf-3cf4-43cc-e481-15cdb84ddd55",
        "colab": {
          "base_uri": "https://localhost:8080/"
        }
      },
      "execution_count": 85,
      "outputs": [
        {
          "output_type": "stream",
          "name": "stdout",
          "text": [
            "('cats is now a kind animals', [0.9663607478141785])\n",
            "('i hate dogs', [0.8497673273086548])\n"
          ]
        }
      ]
    },
    {
      "cell_type": "code",
      "source": [],
      "metadata": {
        "id": "095Lrk-RuXno"
      },
      "execution_count": 83,
      "outputs": []
    }
  ],
  "metadata": {
    "colab": {
      "provenance": [],
      "collapsed_sections": [],
      "include_colab_link": true
    },
    "kernelspec": {
      "display_name": "Python 3",
      "name": "python3"
    }
  },
  "nbformat": 4,
  "nbformat_minor": 0
}