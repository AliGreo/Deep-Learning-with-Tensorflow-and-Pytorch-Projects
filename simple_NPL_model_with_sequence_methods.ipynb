{
  "cells": [
    {
      "cell_type": "markdown",
      "metadata": {
        "id": "view-in-github",
        "colab_type": "text"
      },
      "source": [
        "<a href=\"https://colab.research.google.com/github/Aligreu/Deep-Learning-with-Tensorflow-Projects/blob/main/simple_NPL_model_with_sequence_methods.ipynb\" target=\"_parent\"><img src=\"https://colab.research.google.com/assets/colab-badge.svg\" alt=\"Open In Colab\"/></a>"
      ]
    },
    {
      "cell_type": "code",
      "execution_count": 47,
      "metadata": {
        "id": "lIYdn1woOS1n"
      },
      "outputs": [],
      "source": [
        "from keras.preprocessing.text import Tokenizer\n",
        "from tensorflow.keras.preprocessing.sequence import pad_sequences\n",
        "import numpy as np\n",
        "\n",
        "from keras.models import Sequential\n",
        "from keras.layers import Bidirectional, LSTM, Dense, Embedding\n",
        "from keras.losses import BinaryCrossentropy"
      ]
    },
    {
      "cell_type": "code",
      "source": [
        "text = [\"cats are so cool\",\n",
        "        \"cats are so lazy\",\n",
        "        \"dogs more of kind animals\",\n",
        "        \"i love when dogs make love to humens\",\n",
        "        \"i hate when dogs and cats bees\",\n",
        "        \"hated that no one of my friend love cats\",\n",
        "        \"i hate ice cream vanilla \"]\n",
        "\n",
        "tokens = Tokenizer(num_words=30, oov_token=\"<OOV>\")\n",
        "tokens.fit_on_texts(text)\n",
        "\n",
        "work_index = tokens.word_index\n",
        "\n",
        "sequences = tokens.texts_to_sequences(text)\n",
        "padded = pad_sequences(sequences=sequences, maxlen=50, padding=\"post\", truncating=\"post\")\n",
        "\n",
        "labels = np.array([1,0,1,1, 0, 0, 0])"
      ],
      "metadata": {
        "id": "2qnXajSXnbvF"
      },
      "execution_count": 48,
      "outputs": []
    },
    {
      "cell_type": "code",
      "source": [
        "padded"
      ],
      "metadata": {
        "id": "7OsuU0Kko7mf",
        "outputId": "ef43e993-d689-4b21-d85a-d793d516d858",
        "colab": {
          "base_uri": "https://localhost:8080/"
        }
      },
      "execution_count": 49,
      "outputs": [
        {
          "output_type": "execute_result",
          "data": {
            "text/plain": [
              "array([[ 2,  6,  7, 11,  0,  0,  0,  0,  0,  0,  0,  0,  0,  0,  0,  0,\n",
              "         0,  0,  0,  0,  0,  0,  0,  0,  0,  0,  0,  0,  0,  0,  0,  0,\n",
              "         0,  0,  0,  0,  0,  0,  0,  0,  0,  0,  0,  0,  0,  0,  0,  0,\n",
              "         0,  0],\n",
              "       [ 2,  6,  7, 12,  0,  0,  0,  0,  0,  0,  0,  0,  0,  0,  0,  0,\n",
              "         0,  0,  0,  0,  0,  0,  0,  0,  0,  0,  0,  0,  0,  0,  0,  0,\n",
              "         0,  0,  0,  0,  0,  0,  0,  0,  0,  0,  0,  0,  0,  0,  0,  0,\n",
              "         0,  0],\n",
              "       [ 3, 13,  8, 14, 15,  0,  0,  0,  0,  0,  0,  0,  0,  0,  0,  0,\n",
              "         0,  0,  0,  0,  0,  0,  0,  0,  0,  0,  0,  0,  0,  0,  0,  0,\n",
              "         0,  0,  0,  0,  0,  0,  0,  0,  0,  0,  0,  0,  0,  0,  0,  0,\n",
              "         0,  0],\n",
              "       [ 4,  5,  9,  3, 16,  5, 17, 18,  0,  0,  0,  0,  0,  0,  0,  0,\n",
              "         0,  0,  0,  0,  0,  0,  0,  0,  0,  0,  0,  0,  0,  0,  0,  0,\n",
              "         0,  0,  0,  0,  0,  0,  0,  0,  0,  0,  0,  0,  0,  0,  0,  0,\n",
              "         0,  0],\n",
              "       [ 4, 10,  9,  3, 19,  2, 20,  0,  0,  0,  0,  0,  0,  0,  0,  0,\n",
              "         0,  0,  0,  0,  0,  0,  0,  0,  0,  0,  0,  0,  0,  0,  0,  0,\n",
              "         0,  0,  0,  0,  0,  0,  0,  0,  0,  0,  0,  0,  0,  0,  0,  0,\n",
              "         0,  0],\n",
              "       [21, 22, 23, 24,  8, 25, 26,  5,  2,  0,  0,  0,  0,  0,  0,  0,\n",
              "         0,  0,  0,  0,  0,  0,  0,  0,  0,  0,  0,  0,  0,  0,  0,  0,\n",
              "         0,  0,  0,  0,  0,  0,  0,  0,  0,  0,  0,  0,  0,  0,  0,  0,\n",
              "         0,  0],\n",
              "       [ 4, 10, 27, 28, 29,  0,  0,  0,  0,  0,  0,  0,  0,  0,  0,  0,\n",
              "         0,  0,  0,  0,  0,  0,  0,  0,  0,  0,  0,  0,  0,  0,  0,  0,\n",
              "         0,  0,  0,  0,  0,  0,  0,  0,  0,  0,  0,  0,  0,  0,  0,  0,\n",
              "         0,  0]], dtype=int32)"
            ]
          },
          "metadata": {},
          "execution_count": 49
        }
      ]
    },
    {
      "cell_type": "code",
      "source": [
        "model = Sequential()\n",
        "model.add(Embedding(30, 16, input_length=50))\n",
        "model.add(Bidirectional(LSTM(36)))\n",
        "model.add(Dense(32, activation='relu'))\n",
        "model.add(Dense(1,activation=\"sigmoid\"))\n",
        "\n",
        "\n",
        "model.compile(optimizer='adam', loss=BinaryCrossentropy(), metrics=['accuracy'])"
      ],
      "metadata": {
        "id": "uRCFCwljpE9R"
      },
      "execution_count": 50,
      "outputs": []
    },
    {
      "cell_type": "code",
      "source": [
        "hist = model.fit(padded, labels, epochs=100)"
      ],
      "metadata": {
        "id": "0dYzopvkqEbo",
        "outputId": "fca6a901-549a-4319-97fa-c245b9cd9922",
        "colab": {
          "base_uri": "https://localhost:8080/"
        }
      },
      "execution_count": 51,
      "outputs": [
        {
          "output_type": "stream",
          "name": "stdout",
          "text": [
            "Epoch 1/100\n",
            "1/1 [==============================] - 3s 3s/step - loss: 0.6926 - accuracy: 0.5714\n",
            "Epoch 2/100\n",
            "1/1 [==============================] - 0s 27ms/step - loss: 0.6911 - accuracy: 0.5714\n",
            "Epoch 3/100\n",
            "1/1 [==============================] - 0s 25ms/step - loss: 0.6900 - accuracy: 0.5714\n",
            "Epoch 4/100\n",
            "1/1 [==============================] - 0s 24ms/step - loss: 0.6890 - accuracy: 0.5714\n",
            "Epoch 5/100\n",
            "1/1 [==============================] - 0s 24ms/step - loss: 0.6879 - accuracy: 0.5714\n",
            "Epoch 6/100\n",
            "1/1 [==============================] - 0s 24ms/step - loss: 0.6868 - accuracy: 0.5714\n",
            "Epoch 7/100\n",
            "1/1 [==============================] - 0s 30ms/step - loss: 0.6857 - accuracy: 0.5714\n",
            "Epoch 8/100\n",
            "1/1 [==============================] - 0s 23ms/step - loss: 0.6846 - accuracy: 0.5714\n",
            "Epoch 9/100\n",
            "1/1 [==============================] - 0s 24ms/step - loss: 0.6833 - accuracy: 0.5714\n",
            "Epoch 10/100\n",
            "1/1 [==============================] - 0s 26ms/step - loss: 0.6820 - accuracy: 0.5714\n",
            "Epoch 11/100\n",
            "1/1 [==============================] - 0s 23ms/step - loss: 0.6807 - accuracy: 0.5714\n",
            "Epoch 12/100\n",
            "1/1 [==============================] - 0s 33ms/step - loss: 0.6794 - accuracy: 0.5714\n",
            "Epoch 13/100\n",
            "1/1 [==============================] - 0s 32ms/step - loss: 0.6779 - accuracy: 0.5714\n",
            "Epoch 14/100\n",
            "1/1 [==============================] - 0s 29ms/step - loss: 0.6764 - accuracy: 0.5714\n",
            "Epoch 15/100\n",
            "1/1 [==============================] - 0s 35ms/step - loss: 0.6749 - accuracy: 0.5714\n",
            "Epoch 16/100\n",
            "1/1 [==============================] - 0s 29ms/step - loss: 0.6735 - accuracy: 0.5714\n",
            "Epoch 17/100\n",
            "1/1 [==============================] - 0s 26ms/step - loss: 0.6721 - accuracy: 0.5714\n",
            "Epoch 18/100\n",
            "1/1 [==============================] - 0s 28ms/step - loss: 0.6707 - accuracy: 0.5714\n",
            "Epoch 19/100\n",
            "1/1 [==============================] - 0s 23ms/step - loss: 0.6694 - accuracy: 0.5714\n",
            "Epoch 20/100\n",
            "1/1 [==============================] - 0s 41ms/step - loss: 0.6678 - accuracy: 0.5714\n",
            "Epoch 21/100\n",
            "1/1 [==============================] - 0s 30ms/step - loss: 0.6658 - accuracy: 0.5714\n",
            "Epoch 22/100\n",
            "1/1 [==============================] - 0s 27ms/step - loss: 0.6634 - accuracy: 0.5714\n",
            "Epoch 23/100\n",
            "1/1 [==============================] - 0s 24ms/step - loss: 0.6605 - accuracy: 0.5714\n",
            "Epoch 24/100\n",
            "1/1 [==============================] - 0s 25ms/step - loss: 0.6574 - accuracy: 0.5714\n",
            "Epoch 25/100\n",
            "1/1 [==============================] - 0s 24ms/step - loss: 0.6539 - accuracy: 0.5714\n",
            "Epoch 26/100\n",
            "1/1 [==============================] - 0s 33ms/step - loss: 0.6502 - accuracy: 0.5714\n",
            "Epoch 27/100\n",
            "1/1 [==============================] - 0s 27ms/step - loss: 0.6462 - accuracy: 0.5714\n",
            "Epoch 28/100\n",
            "1/1 [==============================] - 0s 27ms/step - loss: 0.6418 - accuracy: 0.5714\n",
            "Epoch 29/100\n",
            "1/1 [==============================] - 0s 26ms/step - loss: 0.6368 - accuracy: 0.5714\n",
            "Epoch 30/100\n",
            "1/1 [==============================] - 0s 24ms/step - loss: 0.6311 - accuracy: 0.5714\n",
            "Epoch 31/100\n",
            "1/1 [==============================] - 0s 24ms/step - loss: 0.6248 - accuracy: 0.5714\n",
            "Epoch 32/100\n",
            "1/1 [==============================] - 0s 26ms/step - loss: 0.6175 - accuracy: 0.5714\n",
            "Epoch 33/100\n",
            "1/1 [==============================] - 0s 24ms/step - loss: 0.6093 - accuracy: 0.5714\n",
            "Epoch 34/100\n",
            "1/1 [==============================] - 0s 28ms/step - loss: 0.6004 - accuracy: 0.5714\n",
            "Epoch 35/100\n",
            "1/1 [==============================] - 0s 31ms/step - loss: 0.5905 - accuracy: 0.5714\n",
            "Epoch 36/100\n",
            "1/1 [==============================] - 0s 26ms/step - loss: 0.5792 - accuracy: 0.5714\n",
            "Epoch 37/100\n",
            "1/1 [==============================] - 0s 32ms/step - loss: 0.5663 - accuracy: 0.7143\n",
            "Epoch 38/100\n",
            "1/1 [==============================] - 0s 26ms/step - loss: 0.5533 - accuracy: 0.8571\n",
            "Epoch 39/100\n",
            "1/1 [==============================] - 0s 26ms/step - loss: 0.5373 - accuracy: 0.7143\n",
            "Epoch 40/100\n",
            "1/1 [==============================] - 0s 27ms/step - loss: 0.5242 - accuracy: 0.7143\n",
            "Epoch 41/100\n",
            "1/1 [==============================] - 0s 25ms/step - loss: 0.5169 - accuracy: 1.0000\n",
            "Epoch 42/100\n",
            "1/1 [==============================] - 0s 23ms/step - loss: 0.4930 - accuracy: 0.8571\n",
            "Epoch 43/100\n",
            "1/1 [==============================] - 0s 24ms/step - loss: 0.5099 - accuracy: 0.5714\n",
            "Epoch 44/100\n",
            "1/1 [==============================] - 0s 29ms/step - loss: 0.4677 - accuracy: 1.0000\n",
            "Epoch 45/100\n",
            "1/1 [==============================] - 0s 29ms/step - loss: 0.4811 - accuracy: 1.0000\n",
            "Epoch 46/100\n",
            "1/1 [==============================] - 0s 26ms/step - loss: 0.4575 - accuracy: 1.0000\n",
            "Epoch 47/100\n",
            "1/1 [==============================] - 0s 31ms/step - loss: 0.4266 - accuracy: 0.8571\n",
            "Epoch 48/100\n",
            "1/1 [==============================] - 0s 26ms/step - loss: 0.4354 - accuracy: 0.8571\n",
            "Epoch 49/100\n",
            "1/1 [==============================] - 0s 32ms/step - loss: 0.4050 - accuracy: 0.8571\n",
            "Epoch 50/100\n",
            "1/1 [==============================] - 0s 24ms/step - loss: 0.3888 - accuracy: 1.0000\n",
            "Epoch 51/100\n",
            "1/1 [==============================] - 0s 26ms/step - loss: 0.3839 - accuracy: 1.0000\n",
            "Epoch 52/100\n",
            "1/1 [==============================] - 0s 35ms/step - loss: 0.3676 - accuracy: 1.0000\n",
            "Epoch 53/100\n",
            "1/1 [==============================] - 0s 33ms/step - loss: 0.3433 - accuracy: 1.0000\n",
            "Epoch 54/100\n",
            "1/1 [==============================] - 0s 25ms/step - loss: 0.3320 - accuracy: 0.8571\n",
            "Epoch 55/100\n",
            "1/1 [==============================] - 0s 27ms/step - loss: 0.3200 - accuracy: 0.8571\n",
            "Epoch 56/100\n",
            "1/1 [==============================] - 0s 30ms/step - loss: 0.2945 - accuracy: 1.0000\n",
            "Epoch 57/100\n",
            "1/1 [==============================] - 0s 35ms/step - loss: 0.2862 - accuracy: 1.0000\n",
            "Epoch 58/100\n",
            "1/1 [==============================] - 0s 29ms/step - loss: 0.2687 - accuracy: 1.0000\n",
            "Epoch 59/100\n",
            "1/1 [==============================] - 0s 34ms/step - loss: 0.2459 - accuracy: 1.0000\n",
            "Epoch 60/100\n",
            "1/1 [==============================] - 0s 32ms/step - loss: 0.2422 - accuracy: 0.8571\n",
            "Epoch 61/100\n",
            "1/1 [==============================] - 0s 25ms/step - loss: 0.2237 - accuracy: 1.0000\n",
            "Epoch 62/100\n",
            "1/1 [==============================] - 0s 27ms/step - loss: 0.2156 - accuracy: 1.0000\n",
            "Epoch 63/100\n",
            "1/1 [==============================] - 0s 23ms/step - loss: 0.1921 - accuracy: 1.0000\n",
            "Epoch 64/100\n",
            "1/1 [==============================] - 0s 23ms/step - loss: 0.1859 - accuracy: 1.0000\n",
            "Epoch 65/100\n",
            "1/1 [==============================] - 0s 25ms/step - loss: 0.1889 - accuracy: 1.0000\n",
            "Epoch 66/100\n",
            "1/1 [==============================] - 0s 26ms/step - loss: 0.1710 - accuracy: 1.0000\n",
            "Epoch 67/100\n",
            "1/1 [==============================] - 0s 32ms/step - loss: 0.1797 - accuracy: 0.8571\n",
            "Epoch 68/100\n",
            "1/1 [==============================] - 0s 24ms/step - loss: 0.1667 - accuracy: 1.0000\n",
            "Epoch 69/100\n",
            "1/1 [==============================] - 0s 27ms/step - loss: 0.1765 - accuracy: 0.8571\n",
            "Epoch 70/100\n",
            "1/1 [==============================] - 0s 24ms/step - loss: 0.1381 - accuracy: 1.0000\n",
            "Epoch 71/100\n",
            "1/1 [==============================] - 0s 24ms/step - loss: 0.1529 - accuracy: 0.8571\n",
            "Epoch 72/100\n",
            "1/1 [==============================] - 0s 26ms/step - loss: 0.1187 - accuracy: 1.0000\n",
            "Epoch 73/100\n",
            "1/1 [==============================] - 0s 27ms/step - loss: 0.1247 - accuracy: 1.0000\n",
            "Epoch 74/100\n",
            "1/1 [==============================] - 0s 25ms/step - loss: 0.1220 - accuracy: 1.0000\n",
            "Epoch 75/100\n",
            "1/1 [==============================] - 0s 26ms/step - loss: 0.1077 - accuracy: 1.0000\n",
            "Epoch 76/100\n",
            "1/1 [==============================] - 0s 27ms/step - loss: 0.1023 - accuracy: 1.0000\n",
            "Epoch 77/100\n",
            "1/1 [==============================] - 0s 29ms/step - loss: 0.1048 - accuracy: 1.0000\n",
            "Epoch 78/100\n",
            "1/1 [==============================] - 0s 25ms/step - loss: 0.0915 - accuracy: 1.0000\n",
            "Epoch 79/100\n",
            "1/1 [==============================] - 0s 27ms/step - loss: 0.0899 - accuracy: 1.0000\n",
            "Epoch 80/100\n",
            "1/1 [==============================] - 0s 25ms/step - loss: 0.0890 - accuracy: 1.0000\n",
            "Epoch 81/100\n",
            "1/1 [==============================] - 0s 31ms/step - loss: 0.0819 - accuracy: 1.0000\n",
            "Epoch 82/100\n",
            "1/1 [==============================] - 0s 37ms/step - loss: 0.0743 - accuracy: 1.0000\n",
            "Epoch 83/100\n",
            "1/1 [==============================] - 0s 29ms/step - loss: 0.0743 - accuracy: 1.0000\n",
            "Epoch 84/100\n",
            "1/1 [==============================] - 0s 26ms/step - loss: 0.0691 - accuracy: 1.0000\n",
            "Epoch 85/100\n",
            "1/1 [==============================] - 0s 26ms/step - loss: 0.0628 - accuracy: 1.0000\n",
            "Epoch 86/100\n",
            "1/1 [==============================] - 0s 30ms/step - loss: 0.0618 - accuracy: 1.0000\n",
            "Epoch 87/100\n",
            "1/1 [==============================] - 0s 29ms/step - loss: 0.0584 - accuracy: 1.0000\n",
            "Epoch 88/100\n",
            "1/1 [==============================] - 0s 24ms/step - loss: 0.0523 - accuracy: 1.0000\n",
            "Epoch 89/100\n",
            "1/1 [==============================] - 0s 24ms/step - loss: 0.0503 - accuracy: 1.0000\n",
            "Epoch 90/100\n",
            "1/1 [==============================] - 0s 28ms/step - loss: 0.0479 - accuracy: 1.0000\n",
            "Epoch 91/100\n",
            "1/1 [==============================] - 0s 25ms/step - loss: 0.0427 - accuracy: 1.0000\n",
            "Epoch 92/100\n",
            "1/1 [==============================] - 0s 26ms/step - loss: 0.0415 - accuracy: 1.0000\n",
            "Epoch 93/100\n",
            "1/1 [==============================] - 0s 24ms/step - loss: 0.0387 - accuracy: 1.0000\n",
            "Epoch 94/100\n",
            "1/1 [==============================] - 0s 23ms/step - loss: 0.0346 - accuracy: 1.0000\n",
            "Epoch 95/100\n",
            "1/1 [==============================] - 0s 23ms/step - loss: 0.0337 - accuracy: 1.0000\n",
            "Epoch 96/100\n",
            "1/1 [==============================] - 0s 24ms/step - loss: 0.0307 - accuracy: 1.0000\n",
            "Epoch 97/100\n",
            "1/1 [==============================] - 0s 33ms/step - loss: 0.0281 - accuracy: 1.0000\n",
            "Epoch 98/100\n",
            "1/1 [==============================] - 0s 28ms/step - loss: 0.0271 - accuracy: 1.0000\n",
            "Epoch 99/100\n",
            "1/1 [==============================] - 0s 30ms/step - loss: 0.0244 - accuracy: 1.0000\n",
            "Epoch 100/100\n",
            "1/1 [==============================] - 0s 24ms/step - loss: 0.0227 - accuracy: 1.0000\n"
          ]
        }
      ]
    },
    {
      "cell_type": "code",
      "source": [
        "test = [\"cats is now a kind animals\",\n",
        "        \"i hate dogs\"]\n",
        "\n",
        "sequences = tokens.texts_to_sequences(test)\n",
        "padded_test = pad_sequences(sequences, padding=\"post\", truncating=\"post\", maxlen=50)\n",
        "\n",
        "predictions = model.predict(padded_test)\n",
        "predictions = predictions.tolist()\n",
        "predictions"
      ],
      "metadata": {
        "id": "TjeDJ4i2q-Lf",
        "outputId": "8659c0b8-3756-4558-c586-4b44cc988145",
        "colab": {
          "base_uri": "https://localhost:8080/"
        }
      },
      "execution_count": 52,
      "outputs": [
        {
          "output_type": "stream",
          "name": "stdout",
          "text": [
            "1/1 [==============================] - 1s 644ms/step\n"
          ]
        },
        {
          "output_type": "execute_result",
          "data": {
            "text/plain": [
              "[[0.9627618789672852], [0.21143560111522675]]"
            ]
          },
          "metadata": {},
          "execution_count": 52
        }
      ]
    },
    {
      "cell_type": "code",
      "source": [
        "\n",
        "for i in range(len(test)):\n",
        "    print((test[i], predictions[i]))"
      ],
      "metadata": {
        "id": "tXfdbnYBtvc-",
        "outputId": "78f90f6b-db0c-4164-a042-43110e9ae548",
        "colab": {
          "base_uri": "https://localhost:8080/"
        }
      },
      "execution_count": 57,
      "outputs": [
        {
          "output_type": "stream",
          "name": "stdout",
          "text": [
            "('cats is now a kind animals', [0.9627618789672852])\n",
            "('i hate dogs', [0.21143560111522675])\n"
          ]
        }
      ]
    },
    {
      "cell_type": "code",
      "source": [],
      "metadata": {
        "id": "095Lrk-RuXno"
      },
      "execution_count": 53,
      "outputs": []
    }
  ],
  "metadata": {
    "colab": {
      "provenance": [],
      "collapsed_sections": [],
      "include_colab_link": true
    },
    "kernelspec": {
      "display_name": "Python 3",
      "name": "python3"
    }
  },
  "nbformat": 4,
  "nbformat_minor": 0
}